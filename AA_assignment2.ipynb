{
  "nbformat": 4,
  "nbformat_minor": 0,
  "metadata": {
    "colab": {
      "provenance": [],
      "mount_file_id": "191WxM4tiVHwih587uO2RPGbwXU8WrnDZ",
      "authorship_tag": "ABX9TyOWq1ar6aL37obEfEuY23kb",
      "include_colab_link": true
    },
    "kernelspec": {
      "name": "python3",
      "display_name": "Python 3"
    },
    "language_info": {
      "name": "python"
    },
    "accelerator": "GPU",
    "gpuClass": "standard"
  },
  "cells": [
    {
      "cell_type": "markdown",
      "metadata": {
        "id": "view-in-github",
        "colab_type": "text"
      },
      "source": [
        "<a href=\"https://colab.research.google.com/github/AnastasiaDv491/AA-course-assignment2/blob/main/AA_assignment2.ipynb\" target=\"_parent\"><img src=\"https://colab.research.google.com/assets/colab-badge.svg\" alt=\"Open In Colab\"/></a>"
      ]
    },
    {
      "cell_type": "code",
      "execution_count": null,
      "metadata": {
        "colab": {
          "base_uri": "https://localhost:8080/"
        },
        "id": "1JcXQF470Soy",
        "outputId": "1e730ab9-9118-437d-d0b0-8378c56c0203"
      },
      "outputs": [
        {
          "output_type": "stream",
          "name": "stdout",
          "text": [
            "Mounted at /content/gdrive\n"
          ]
        }
      ],
      "source": [
        "from google.colab import drive\n",
        "drive.mount('/content/gdrive')"
      ]
    },
    {
      "cell_type": "code",
      "source": [
        "!unzip gdrive/My\\ Drive/data/archive.zip\n"
      ],
      "metadata": {
        "id": "qI8nDz_X2gxy"
      },
      "execution_count": null,
      "outputs": []
    },
    {
      "cell_type": "code",
      "source": [
        "# Import libraries\n",
        "import os  # For interacting with the file system\n",
        "import shutil  # For managing files and directories in a cross-platform manner\n",
        "import keras  # For building deep learning models\n",
        "import numpy as np  # For numerical operations on arrays\n",
        "from glob import glob  # For finding file paths\n",
        "from tqdm import tqdm  # For progress bars\n",
        "\n",
        "# Data preprocessing\n",
        "from keras.preprocessing.image import ImageDataGenerator  # For image data augmentation\n",
        "\n",
        "# Data visualization\n",
        "import seaborn as sns  # For statistical visualizations\n",
        "import plotly.graph_objs as go  # For interactive visualizations\n",
        "import matplotlib.pyplot as plt  # For creating static plots\n",
        "\n",
        "# Model architecture\n",
        "from keras import Sequential  # For building sequential models\n",
        "from keras.models import load_model  # For loading pre-trained models\n",
        "from keras.layers import Dense, GlobalAvgPool2D as GAP, Dropout  # For defining model layers\n",
        "\n",
        "# Training callbacks\n",
        "from keras.callbacks import ModelCheckpoint, EarlyStopping  # For training callbacks\n",
        "\n",
        "# Pre-trained models\n",
        "from tensorflow.keras.applications import InceptionV3, Xception, ResNet152V2  # For using pre-trained models"
      ],
      "metadata": {
        "id": "zJ3ledDc5kNN"
      },
      "execution_count": null,
      "outputs": []
    },
    {
      "cell_type": "code",
      "source": [
        "data_path = 'raw-img'\n",
        "class_names = sorted(os.listdir(data_path))\n",
        "class_names\n",
        "num_classes = len(class_names)\n",
        "num_classes"
      ],
      "metadata": {
        "colab": {
          "base_uri": "https://localhost:8080/"
        },
        "id": "wJB0WZ9m5pQ2",
        "outputId": "fa3fb9b0-9905-4f9c-d64b-75d49b323296"
      },
      "execution_count": null,
      "outputs": [
        {
          "output_type": "execute_result",
          "data": {
            "text/plain": [
              "10"
            ]
          },
          "metadata": {},
          "execution_count": 5
        }
      ]
    },
    {
      "cell_type": "code",
      "source": [
        "class_sizes = []\n",
        "for name in class_names:\n",
        "    class_size = len(os.listdir(data_path + \"/\" + name))\n",
        "    class_sizes.append(class_size)\n",
        "\n",
        "class_name_size = dict(zip(class_names, class_sizes))"
      ],
      "metadata": {
        "id": "Yx2QSOwm5qgC"
      },
      "execution_count": null,
      "outputs": []
    },
    {
      "cell_type": "code",
      "source": [
        "sampled_data_path = './sampled-data'\n",
        "if not os.path.exists(sampled_data_path):\n",
        "    os.mkdir(sampled_data_path)\n",
        "\n",
        "sample_percent = 0.1\n",
        "class_names_dict = {\n",
        "    'cane': 'dog',\n",
        "    'cavallo': 'horse',\n",
        "    'elefante': 'elephant',\n",
        "    'farfalla': 'butterfly',\n",
        "    'gallina': 'chicken',\n",
        "    'gatto': 'cat',\n",
        "    'mucca': 'cow',\n",
        "    'pecora': 'sheep',\n",
        "    'ragno': 'spider',\n",
        "    'scoiattolo': 'squirrel'\n",
        "}\n",
        "for class_name in os.listdir(data_path):\n",
        "    # Get the path to the original class directory\n",
        "    class_path = os.path.join(data_path, class_name)\n",
        "    # Get the English name of the class\n",
        "    class_name_en = class_names_dict[class_name]\n",
        "    # Get the path to the sampled class directory\n",
        "    sampled_class_path = os.path.join(sampled_data_path, class_name_en)\n",
        "    # Create the sampled class directory and fill it up only if it doesn't exist ********\n",
        "    if not os.path.exists(sampled_class_path):\n",
        "        os.mkdir(sampled_class_path)\n",
        "        # Get a list of all the image files in the class directory\n",
        "        image_files = os.listdir(class_path)\n",
        "        # Calculate the number of images to sample **************\n",
        "        image_class_size = class_name_size[class_name]\n",
        "        if image_class_size > 2000:\n",
        "            num_images = 2000\n",
        "        else:\n",
        "            num_images = int(image_class_size)\n",
        "        # Sample the images\n",
        "        sampled_images = np.random.choice(image_files, size=num_images, replace=False)\n",
        "        # Copy the sampled images to the sampled class directory\n",
        "        for image_name in sampled_images:\n",
        "            src_path = os.path.join(class_path, image_name)\n",
        "            dst_path = os.path.join(sampled_class_path, image_name)\n",
        "            shutil.copyfile(src_path, dst_path)"
      ],
      "metadata": {
        "id": "iUZ_0Kg35rwN"
      },
      "execution_count": null,
      "outputs": []
    },
    {
      "cell_type": "code",
      "source": [
        "data_generator = ImageDataGenerator(\n",
        "    rescale = 1./255,\n",
        "    horizontal_flip = True,\n",
        "    vertical_flip = True,\n",
        "    # rotation_range = 20,\n",
        "    validation_split=0.2\n",
        ")"
      ],
      "metadata": {
        "id": "CR4k4hSM5kjr"
      },
      "execution_count": null,
      "outputs": []
    },
    {
      "cell_type": "code",
      "source": [
        "train_data = data_generator.flow_from_directory(\n",
        "    sampled_data_path,\n",
        "    target_size =(256,256),\n",
        "    class_mode = 'binary',\n",
        "    batch_size = 32,\n",
        "    shuffle = True,\n",
        "    subset = 'training'\n",
        ")\n",
        "valid_data = data_generator.flow_from_directory(\n",
        "    sampled_data_path, \n",
        "    target_size=(256,256), \n",
        "    class_mode='binary', \n",
        "    batch_size=32, \n",
        "    shuffle=True, \n",
        "    subset='validation')"
      ],
      "metadata": {
        "colab": {
          "base_uri": "https://localhost:8080/"
        },
        "id": "8f8R_8yo5zES",
        "outputId": "e838cf60-932d-42b1-fd4c-a0e2035b8459"
      },
      "execution_count": null,
      "outputs": [
        {
          "output_type": "stream",
          "name": "stdout",
          "text": [
            "Found 14931 images belonging to 10 classes.\n",
            "Found 3731 images belonging to 10 classes.\n"
          ]
        }
      ]
    },
    {
      "cell_type": "code",
      "source": [
        "def show_image(image, image_title = None):\n",
        "    plt.imshow(image)\n",
        "    plt.title(image_title)\n",
        "    plt.axis('off')\n",
        "\n",
        "def get_random_data(data_tuple):\n",
        "    images, labels = data_tuple\n",
        "    idx = np.random.randint(len(images))\n",
        "    image, label = images[idx], labels[idx]\n",
        "    return image, label\n",
        "\n",
        "plt.figure(figsize =(20,20))"
      ],
      "metadata": {
        "colab": {
          "base_uri": "https://localhost:8080/",
          "height": 52
        },
        "id": "WOu3qpmt50RP",
        "outputId": "f36e15c7-297d-4688-a4bc-c065ec270d03"
      },
      "execution_count": null,
      "outputs": [
        {
          "output_type": "execute_result",
          "data": {
            "text/plain": [
              "<Figure size 2000x2000 with 0 Axes>"
            ]
          },
          "metadata": {},
          "execution_count": 10
        },
        {
          "output_type": "display_data",
          "data": {
            "text/plain": [
              "<Figure size 2000x2000 with 0 Axes>"
            ]
          },
          "metadata": {}
        }
      ]
    },
    {
      "cell_type": "code",
      "source": [
        "name = \"ResNet152V2\"\n",
        "base_model = ResNet152V2(include_top=False, input_shape=(256,256,3), weights='imagenet')\n",
        "base_model.trainable = False\n",
        "\n",
        "resnet = Sequential([\n",
        "    base_model,\n",
        "    GAP(),\n",
        "    Dense(256, activation = \"relu\"),\n",
        "    Dropout(0.2),\n",
        "    Dense(10, activation = \"softmax\")\n",
        "], name = name)\n",
        "\n",
        "resnet.compile(\n",
        "    loss='sparse_categorical_crossentropy',\n",
        "    optimizer='adam',\n",
        "    metrics=['accuracy']\n",
        ")\n",
        "\n",
        "cbs = [\n",
        "    EarlyStopping(patience=3, restore_best_weights=True),\n",
        "    ModelCheckpoint(name + \".h5\", save_best_only=True)\n",
        "]\n",
        "\n",
        "resnet.fit(\n",
        "    train_data, validation_data=valid_data,\n",
        "    epochs=10, callbacks=cbs\n",
        ")\n",
        "\n"
      ],
      "metadata": {
        "colab": {
          "base_uri": "https://localhost:8080/"
        },
        "id": "1kqewXI251jX",
        "outputId": "44b942a7-51b2-43a7-ec45-d8cc8c8492a8"
      },
      "execution_count": null,
      "outputs": [
        {
          "output_type": "stream",
          "name": "stdout",
          "text": [
            "Epoch 1/10\n",
            "467/467 [==============================] - 188s 382ms/step - loss: 0.4155 - accuracy: 0.8683 - val_loss: 0.2854 - val_accuracy: 0.9011\n",
            "Epoch 2/10\n",
            "467/467 [==============================] - 164s 351ms/step - loss: 0.2645 - accuracy: 0.9155 - val_loss: 0.2413 - val_accuracy: 0.9188\n",
            "Epoch 3/10\n",
            "467/467 [==============================] - 163s 347ms/step - loss: 0.2235 - accuracy: 0.9283 - val_loss: 0.2450 - val_accuracy: 0.9244\n",
            "Epoch 4/10\n",
            "467/467 [==============================] - 164s 351ms/step - loss: 0.2000 - accuracy: 0.9368 - val_loss: 0.2263 - val_accuracy: 0.9295\n",
            "Epoch 5/10\n",
            "467/467 [==============================] - 165s 354ms/step - loss: 0.1834 - accuracy: 0.9403 - val_loss: 0.2152 - val_accuracy: 0.9317\n",
            "Epoch 6/10\n",
            "467/467 [==============================] - 163s 348ms/step - loss: 0.1622 - accuracy: 0.9460 - val_loss: 0.2533 - val_accuracy: 0.9174\n",
            "Epoch 7/10\n",
            "467/467 [==============================] - 162s 347ms/step - loss: 0.1437 - accuracy: 0.9520 - val_loss: 0.2339 - val_accuracy: 0.9292\n",
            "Epoch 8/10\n",
            "467/467 [==============================] - 165s 354ms/step - loss: 0.1430 - accuracy: 0.9528 - val_loss: 0.2125 - val_accuracy: 0.9359\n",
            "Epoch 9/10\n",
            "467/467 [==============================] - 162s 347ms/step - loss: 0.1319 - accuracy: 0.9571 - val_loss: 0.2162 - val_accuracy: 0.9300\n",
            "Epoch 10/10\n",
            "467/467 [==============================] - 162s 348ms/step - loss: 0.1188 - accuracy: 0.9619 - val_loss: 0.2795 - val_accuracy: 0.9217\n"
          ]
        },
        {
          "output_type": "execute_result",
          "data": {
            "text/plain": [
              "<keras.callbacks.History at 0x7f498606aa60>"
            ]
          },
          "metadata": {},
          "execution_count": 12
        }
      ]
    },
    {
      "cell_type": "code",
      "source": [
        "model_file_path = 'ResNet152V2.h5'\n",
        "loaded_model = load_model(model_file_path)\n",
        "loaded_model.summary()\n",
        "\n",
        "loaded_model.evaluate(valid_data)"
      ],
      "metadata": {
        "colab": {
          "base_uri": "https://localhost:8080/",
          "height": 380
        },
        "id": "bG5MrfgzOUER",
        "outputId": "cb620081-b681-4a71-c0ef-d77677c08885"
      },
      "execution_count": null,
      "outputs": [
        {
          "output_type": "error",
          "ename": "OSError",
          "evalue": "ignored",
          "traceback": [
            "\u001b[0;31m---------------------------------------------------------------------------\u001b[0m",
            "\u001b[0;31mOSError\u001b[0m                                   Traceback (most recent call last)",
            "\u001b[0;32m<ipython-input-3-40cc60be91cf>\u001b[0m in \u001b[0;36m<cell line: 2>\u001b[0;34m()\u001b[0m\n\u001b[1;32m      1\u001b[0m \u001b[0mmodel_file_path\u001b[0m \u001b[0;34m=\u001b[0m \u001b[0;34m'ResNet152V2.h5'\u001b[0m\u001b[0;34m\u001b[0m\u001b[0;34m\u001b[0m\u001b[0m\n\u001b[0;32m----> 2\u001b[0;31m \u001b[0mloaded_model\u001b[0m \u001b[0;34m=\u001b[0m \u001b[0mload_model\u001b[0m\u001b[0;34m(\u001b[0m\u001b[0mmodel_file_path\u001b[0m\u001b[0;34m)\u001b[0m\u001b[0;34m\u001b[0m\u001b[0;34m\u001b[0m\u001b[0m\n\u001b[0m\u001b[1;32m      3\u001b[0m \u001b[0mloaded_model\u001b[0m\u001b[0;34m.\u001b[0m\u001b[0msummary\u001b[0m\u001b[0;34m(\u001b[0m\u001b[0;34m)\u001b[0m\u001b[0;34m\u001b[0m\u001b[0;34m\u001b[0m\u001b[0m\n\u001b[1;32m      4\u001b[0m \u001b[0;34m\u001b[0m\u001b[0m\n\u001b[1;32m      5\u001b[0m \u001b[0mloaded_model\u001b[0m\u001b[0;34m.\u001b[0m\u001b[0mevaluate\u001b[0m\u001b[0;34m(\u001b[0m\u001b[0mvalid_data\u001b[0m\u001b[0;34m)\u001b[0m\u001b[0;34m\u001b[0m\u001b[0;34m\u001b[0m\u001b[0m\n",
            "\u001b[0;32m/usr/local/lib/python3.9/dist-packages/keras/saving/saving_api.py\u001b[0m in \u001b[0;36mload_model\u001b[0;34m(filepath, custom_objects, compile, safe_mode, **kwargs)\u001b[0m\n\u001b[1;32m    210\u001b[0m \u001b[0;34m\u001b[0m\u001b[0m\n\u001b[1;32m    211\u001b[0m     \u001b[0;31m# Legacy case.\u001b[0m\u001b[0;34m\u001b[0m\u001b[0;34m\u001b[0m\u001b[0m\n\u001b[0;32m--> 212\u001b[0;31m     return legacy_sm_saving_lib.load_model(\n\u001b[0m\u001b[1;32m    213\u001b[0m         \u001b[0mfilepath\u001b[0m\u001b[0;34m,\u001b[0m \u001b[0mcustom_objects\u001b[0m\u001b[0;34m=\u001b[0m\u001b[0mcustom_objects\u001b[0m\u001b[0;34m,\u001b[0m \u001b[0mcompile\u001b[0m\u001b[0;34m=\u001b[0m\u001b[0mcompile\u001b[0m\u001b[0;34m,\u001b[0m \u001b[0;34m**\u001b[0m\u001b[0mkwargs\u001b[0m\u001b[0;34m\u001b[0m\u001b[0;34m\u001b[0m\u001b[0m\n\u001b[1;32m    214\u001b[0m     )\n",
            "\u001b[0;32m/usr/local/lib/python3.9/dist-packages/keras/utils/traceback_utils.py\u001b[0m in \u001b[0;36merror_handler\u001b[0;34m(*args, **kwargs)\u001b[0m\n\u001b[1;32m     68\u001b[0m             \u001b[0;31m# To get the full stack trace, call:\u001b[0m\u001b[0;34m\u001b[0m\u001b[0;34m\u001b[0m\u001b[0m\n\u001b[1;32m     69\u001b[0m             \u001b[0;31m# `tf.debugging.disable_traceback_filtering()`\u001b[0m\u001b[0;34m\u001b[0m\u001b[0;34m\u001b[0m\u001b[0m\n\u001b[0;32m---> 70\u001b[0;31m             \u001b[0;32mraise\u001b[0m \u001b[0me\u001b[0m\u001b[0;34m.\u001b[0m\u001b[0mwith_traceback\u001b[0m\u001b[0;34m(\u001b[0m\u001b[0mfiltered_tb\u001b[0m\u001b[0;34m)\u001b[0m \u001b[0;32mfrom\u001b[0m \u001b[0;32mNone\u001b[0m\u001b[0;34m\u001b[0m\u001b[0;34m\u001b[0m\u001b[0m\n\u001b[0m\u001b[1;32m     71\u001b[0m         \u001b[0;32mfinally\u001b[0m\u001b[0;34m:\u001b[0m\u001b[0;34m\u001b[0m\u001b[0;34m\u001b[0m\u001b[0m\n\u001b[1;32m     72\u001b[0m             \u001b[0;32mdel\u001b[0m \u001b[0mfiltered_tb\u001b[0m\u001b[0;34m\u001b[0m\u001b[0;34m\u001b[0m\u001b[0m\n",
            "\u001b[0;32m/usr/local/lib/python3.9/dist-packages/keras/saving/legacy/save.py\u001b[0m in \u001b[0;36mload_model\u001b[0;34m(filepath, custom_objects, compile, options)\u001b[0m\n\u001b[1;32m    228\u001b[0m                     \u001b[0;32mif\u001b[0m \u001b[0misinstance\u001b[0m\u001b[0;34m(\u001b[0m\u001b[0mfilepath_str\u001b[0m\u001b[0;34m,\u001b[0m \u001b[0mstr\u001b[0m\u001b[0;34m)\u001b[0m\u001b[0;34m:\u001b[0m\u001b[0;34m\u001b[0m\u001b[0;34m\u001b[0m\u001b[0m\n\u001b[1;32m    229\u001b[0m                         \u001b[0;32mif\u001b[0m \u001b[0;32mnot\u001b[0m \u001b[0mtf\u001b[0m\u001b[0;34m.\u001b[0m\u001b[0mio\u001b[0m\u001b[0;34m.\u001b[0m\u001b[0mgfile\u001b[0m\u001b[0;34m.\u001b[0m\u001b[0mexists\u001b[0m\u001b[0;34m(\u001b[0m\u001b[0mfilepath_str\u001b[0m\u001b[0;34m)\u001b[0m\u001b[0;34m:\u001b[0m\u001b[0;34m\u001b[0m\u001b[0;34m\u001b[0m\u001b[0m\n\u001b[0;32m--> 230\u001b[0;31m                             raise IOError(\n\u001b[0m\u001b[1;32m    231\u001b[0m                                 \u001b[0;34mf\"No file or directory found at {filepath_str}\"\u001b[0m\u001b[0;34m\u001b[0m\u001b[0;34m\u001b[0m\u001b[0m\n\u001b[1;32m    232\u001b[0m                             )\n",
            "\u001b[0;31mOSError\u001b[0m: No file or directory found at ResNet152V2.h5"
          ]
        }
      ]
    },
    {
      "cell_type": "code",
      "source": [],
      "metadata": {
        "id": "cLBSOyGwOUgS"
      },
      "execution_count": null,
      "outputs": []
    }
  ]
}